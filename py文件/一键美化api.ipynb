{
 "cells": [
  {
   "cell_type": "markdown",
   "metadata": {},
   "source": [
    "## 智能皮卡api"
   ]
  },
  {
   "cell_type": "code",
   "execution_count": 5,
   "metadata": {},
   "outputs": [],
   "source": [
    "import requests\n",
    "response = requests.post(\n",
    "    'http://www.picup.shop/api/v1/matting?mattingType=4', \n",
    "    files={'file': open('test1.jpg', 'rb')},\n",
    "    headers={'APIKEY': 'e3491a576a8f43eda1df2b0403be7814'},\n",
    ")\n",
    "with open('out.png', 'wb') as out:\n",
    "    out.write(response.content)"
   ]
  },
  {
   "cell_type": "markdown",
   "metadata": {},
   "source": [
    "## 美图秀秀api  --风景去噪\n"
   ]
  },
  {
   "cell_type": "code",
   "execution_count": 26,
   "metadata": {
    "collapsed": true
   },
   "outputs": [
    {
     "name": "stderr",
     "output_type": "stream",
     "text": [
      "D:\\Anaconda5.2.0\\lib\\site-packages\\ipykernel_launcher.py:8: DeprecationWarning: encodestring() is a deprecated alias since 3.1, use encodebytes()\n",
      "  \n",
      "IOPub data rate exceeded.\n",
      "The notebook server will temporarily stop sending output\n",
      "to the client in order to avoid crashing it.\n",
      "To change this limit, set the config variable\n",
      "`--NotebookApp.iopub_data_rate_limit`.\n",
      "\n",
      "Current values:\n",
      "NotebookApp.iopub_data_rate_limit=1000000.0 (bytes/sec)\n",
      "NotebookApp.rate_limit_window=3.0 (secs)\n",
      "\n"
     ]
    },
    {
     "ename": "TypeError",
     "evalue": "string indices must be integers",
     "output_type": "error",
     "traceback": [
      "\u001b[1;31m---------------------------------------------------------------------------\u001b[0m",
      "\u001b[1;31mTypeError\u001b[0m                                 Traceback (most recent call last)",
      "\u001b[1;32m<ipython-input-26-77a4323d7a3f>\u001b[0m in \u001b[0;36m<module>\u001b[1;34m()\u001b[0m\n\u001b[0;32m     31\u001b[0m \u001b[0mss2\u001b[0m \u001b[1;33m=\u001b[0m \u001b[0mjson\u001b[0m\u001b[1;33m.\u001b[0m\u001b[0mdumps\u001b[0m\u001b[1;33m(\u001b[0m\u001b[0mresponse\u001b[0m\u001b[1;33m.\u001b[0m\u001b[0mjson\u001b[0m\u001b[1;33m(\u001b[0m\u001b[1;33m)\u001b[0m\u001b[1;33m)\u001b[0m\u001b[1;33m\u001b[0m\u001b[0m\n\u001b[0;32m     32\u001b[0m \u001b[1;31m# print(ss2)\u001b[0m\u001b[1;33m\u001b[0m\u001b[1;33m\u001b[0m\u001b[0m\n\u001b[1;32m---> 33\u001b[1;33m \u001b[0mimg\u001b[0m \u001b[1;33m=\u001b[0m \u001b[0mbase64\u001b[0m\u001b[1;33m.\u001b[0m\u001b[0mb64decode\u001b[0m\u001b[1;33m(\u001b[0m\u001b[0mss2\u001b[0m\u001b[1;33m[\u001b[0m\u001b[1;34m\"media_info_list\"\u001b[0m\u001b[1;33m]\u001b[0m\u001b[1;33m[\u001b[0m\u001b[1;36m0\u001b[0m\u001b[1;33m]\u001b[0m\u001b[1;33m[\u001b[0m\u001b[1;34m\"media_data\"\u001b[0m\u001b[1;33m]\u001b[0m\u001b[1;33m)\u001b[0m\u001b[1;33m\u001b[0m\u001b[0m\n\u001b[0m\u001b[0;32m     34\u001b[0m \u001b[1;32mwith\u001b[0m \u001b[0mopen\u001b[0m\u001b[1;33m(\u001b[0m\u001b[1;34m'out.png'\u001b[0m\u001b[1;33m,\u001b[0m \u001b[1;34m'wb'\u001b[0m\u001b[1;33m)\u001b[0m \u001b[1;32mas\u001b[0m \u001b[0mout\u001b[0m\u001b[1;33m:\u001b[0m\u001b[1;33m\u001b[0m\u001b[0m\n\u001b[0;32m     35\u001b[0m     \u001b[0mout\u001b[0m\u001b[1;33m.\u001b[0m\u001b[0mwrite\u001b[0m\u001b[1;33m(\u001b[0m\u001b[0mimg\u001b[0m\u001b[1;33m)\u001b[0m\u001b[1;33m\u001b[0m\u001b[0m\n",
      "\u001b[1;31mTypeError\u001b[0m: string indices must be integers"
     ]
    }
   ],
   "source": [
    "import requests\n",
    "import base64\n",
    "import json\n",
    "import os\n",
    "import demjson #转化为python可以使用的json字符串\n",
    "def algorhtmReq():#图片美化函数接口\n",
    "    ## 调用美图秀秀api进行风景去噪\n",
    "    image = open('./test1.jpg', 'rb')\n",
    "    image_read = image.read()\n",
    "    image_64_encode = base64.encodestring(image_read).decode('utf-8')\n",
    "    ss = json.dumps(\n",
    "        {\n",
    "            \"parameter\": {\n",
    "                \"rsp_media_type\": \"base64\",\n",
    "                \"version\": \"1.0\"\n",
    "            },\n",
    "            \"extra\": {},\n",
    "            \"media_info_list\": [{\n",
    "                \"media_data\": image_64_encode,\n",
    "                \"media_profiles\": {\n",
    "                    \"media_data_type\": \"jpg\"\n",
    "                },\n",
    "                \"media_extra\": {\n",
    "                }\n",
    "            }]\n",
    "\n",
    "        }\n",
    "    )\n",
    "\n",
    "    AIBeauty_url = \"https://openapi.mtlab.meitu.com/v2/denoise?api_key=fsZJSPaZLj3BfkEZ1NUjui9iMINu97Di&api_secret=yMgfbFhpJrcZvp98L9PAAzMSJsuImDsl\"\n",
    "    print(ss)\n",
    "    response = requests.post(AIBeauty_url, data=ss)\n",
    "    ss2 = json.dumps(response.json())\n",
    "    print(response.status_code)\n",
    "    ## 读取ss2返回的base64格式编码的图片并存储到本地\n",
    "    ss_c = demjson.decode(ss2)  \n",
    "    ssF = ss_c[\"media_info_list\"][0]['media_data']\n",
    "    img = base64.b64decode(ssF)  #解码base64\n",
    "    with open('out.png', 'wb') as out:\n",
    "        out.write(img)\n"
   ]
  },
  {
   "cell_type": "code",
   "execution_count": null,
   "metadata": {},
   "outputs": [],
   "source": [
    "\n"
   ]
  },
  {
   "cell_type": "code",
   "execution_count": null,
   "metadata": {},
   "outputs": [],
   "source": []
  }
 ],
 "metadata": {
  "kernelspec": {
   "display_name": "Python 3",
   "language": "python",
   "name": "python3"
  },
  "language_info": {
   "codemirror_mode": {
    "name": "ipython",
    "version": 3
   },
   "file_extension": ".py",
   "mimetype": "text/x-python",
   "name": "python",
   "nbconvert_exporter": "python",
   "pygments_lexer": "ipython3",
   "version": "3.6.5"
  }
 },
 "nbformat": 4,
 "nbformat_minor": 2
}
