{
 "cells": [
  {
   "cell_type": "code",
   "execution_count": 2,
   "metadata": {},
   "outputs": [],
   "source": [
    "import cv2\n",
    "import numpy as np\n",
    "img = cv2.imread('defaultback.png', 1) # 1是读取彩色图片\n",
    "#灰度处理\n",
    "gray = cv2.cvtColor(img, cv2.COLOR_BGR2GRAY)\n",
    "cv2.imshow('Gray', gray)\n",
    "#均衡化处理\n",
    "dst = cv2.equalizeHist(gray)\n",
    "cv2.imshow('dst', dst)\n",
    "#等待展示并释放资源\n",
    "cv2.waitKey(0)\n",
    "cv2.destroyAllWindows()"
   ]
  },
  {
   "cell_type": "code",
   "execution_count": 3,
   "metadata": {},
   "outputs": [],
   "source": [
    "import cv2\n",
    "import numpy as np\n",
    "img = cv2.imread('defaultback.png', 1) # 1是读取彩色图片\n",
    "cv2.imshow('Img', img)\n",
    "\n",
    "# 分解三通道\n",
    "(b, g, r) = cv2.split(img)\n",
    "bH = cv2.equalizeHist(b)\n",
    "gH = cv2.equalizeHist(g)\n",
    "rH = cv2.equalizeHist(r)\n",
    "\n",
    "#合并三通道\n",
    "result = cv2.merge((bH, gH, rH))\n",
    "\n",
    "#等待展示并释放资源\n",
    "cv2.imshow('dst', result)\n",
    "cv2.waitKey(0)\n",
    "cv2.destroyAllWindows()\n"
   ]
  },
  {
   "cell_type": "markdown",
   "metadata": {},
   "source": [
    "## CLAHE 算法\n",
    "1. 图像分块，以块为单位\n",
    "2. 计算直方图，修剪并均衡\n",
    "3. 遍历各个图像块，进行块间双线性插值\n",
    "4. 与原图做图层滤色混合操作（可选）--相加取平均\n",
    "\n",
    "## 滤波/卷积\n",
    "* 平滑/去噪\n",
    "- 梯度/锐化\n",
    "- 边缘、显著点、纹理\n",
    "- 模式检测\n",
    "- 频段滤除\n",
    "\n",
    " \n",
    "* 椒盐噪音--采用平滑中值滤波\n",
    "* 模拟人眼，关注中心曲线--平滑高斯滤波--模糊处理，用于高斯金字塔（信号多尺度表示--图片缩放）--一个图像平滑的变小：先进行图像平滑，在进行降采样\n",
    "- 拉普拉斯金字塔  进行上采样  小尺度高斯采样图片重新进行放大 与原图的差异的高频图\n",
    "* laplacian滤波锐化--细节叠加 卷积突出部分再减去平均的部分\n",
    "* 左移滤波--图片左移\n",
    "\n",
    "\n",
    "#### 加快卷积--频域乘积\n",
    "- FFT应用"
   ]
  },
  {
   "cell_type": "code",
   "execution_count": null,
   "metadata": {},
   "outputs": [],
   "source": []
  }
 ],
 "metadata": {
  "kernelspec": {
   "display_name": "Python 3",
   "language": "python",
   "name": "python3"
  },
  "language_info": {
   "codemirror_mode": {
    "name": "ipython",
    "version": 3
   },
   "file_extension": ".py",
   "mimetype": "text/x-python",
   "name": "python",
   "nbconvert_exporter": "python",
   "pygments_lexer": "ipython3",
   "version": "3.6.5"
  }
 },
 "nbformat": 4,
 "nbformat_minor": 4
}
