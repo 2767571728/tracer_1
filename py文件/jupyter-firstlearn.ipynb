{
 "cells": [
  {
   "cell_type": "markdown",
   "metadata": {},
   "source": [
    "# 1号\n",
    "### 3号\n",
    "\n",
    "#### 无序列表\n",
    "\n",
    "* 2321\n",
    "* 2321\n",
    "+ 2321\n",
    "- 2321\n",
    "\n",
    "#### 有序列表\n",
    "1. 7\n",
    "2. 6\n",
    "\n",
    "#### 换行\n",
    "\n",
    "\n",
    "1. 21\n",
    "\n",
    "2. 12\n"
   ]
  },
  {
   "cell_type": "markdown",
   "metadata": {},
   "source": [
    "`print(\"hello\")`\n",
    "\n",
    "加代码语言会有高亮\n",
    "\n",
    "```python \n",
    "def func():\n",
    "   pass\n",
    "```\n",
    "分隔符\n",
    "***\n",
    "\n",
    "---"
   ]
  },
  {
   "cell_type": "markdown",
   "metadata": {},
   "source": [
    "[跳转百度](http://www.baidu.com)\n",
    "![图片挂了的说明](boy.jpg)"
   ]
  },
  {
   "cell_type": "code",
   "execution_count": null,
   "metadata": {
    "collapsed": true
   },
   "outputs": [],
   "source": []
  }
 ],
 "metadata": {
  "kernelspec": {
   "display_name": "Python 3",
   "language": "python",
   "name": "python3"
  },
  "language_info": {
   "codemirror_mode": {
    "name": "ipython",
    "version": 3
   },
   "file_extension": ".py",
   "mimetype": "text/x-python",
   "name": "python",
   "nbconvert_exporter": "python",
   "pygments_lexer": "ipython3",
   "version": "3.6.3"
  }
 },
 "nbformat": 4,
 "nbformat_minor": 2
}
