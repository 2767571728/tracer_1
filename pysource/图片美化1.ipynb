{
 "cells": [
  {
   "cell_type": "markdown",
   "metadata": {},
   "source": [
    "#### 人脸检测与美颜\n",
    "- 磨皮、美白、美牙、亮眼、祛黑眼圈、清晰、五官立体、祛斑祛痘、祛法令纹和面部光影平整算法"
   ]
  },
  {
   "cell_type": "code",
   "execution_count": 2,
   "metadata": {},
   "outputs": [
    {
     "name": "stdout",
     "output_type": "stream",
     "text": [
      "\n"
     ]
    }
   ],
   "source": [
    "import cv2\n",
    "print()\n",
    "\n",
    "def detect_face(img):\n",
    "    # 将测试图像转换为灰度图像，因为opencv人脸检测器需要灰度图像\n",
    "    gray = cv2.cvtColor(img, cv2.COLOR_BGR2GRAY)\n",
    "    # 加载OpenCV人脸检测分类器Haar\n",
    "    face_cascade = cv2.CascadeClassifier('D:/Anaconda5.2.0/Lib/site-packages/cv2/data/haarcascade_frontalface_default.xml')\n",
    "    # 检测多尺度图像，返回值是一张脸部区域信息的列表（x,y,宽,高）\n",
    "    faces = face_cascade.detectMultiScale(gray, scaleFactor=1.2, minNeighbors=5)\n",
    "    # 如果未检测到面部，则返回原始图像\n",
    "    if (len(faces) == 0):\n",
    "        return None, None\n",
    "    # 目前假设只有一张脸，xy为左上角坐标，wh为矩形的宽高\n",
    "    (x, y, w, h) = faces[0]\n",
    "    # 返回图像的正面部分\n",
    "    return gray[y:y + w, x:x + h], faces[0]\n"
   ]
  },
  {
   "cell_type": "code",
   "execution_count": 3,
   "metadata": {},
   "outputs": [],
   "source": [
    "test_img = cv2.imread('./0.jpg')\n",
    "face,rect = detect_face(test_img)\n",
    "cv2.imshow('V',test_img )"
   ]
  },
  {
   "cell_type": "code",
   "execution_count": 4,
   "metadata": {},
   "outputs": [
    {
     "name": "stdout",
     "output_type": "stream",
     "text": [
      "[[0 0 0 ... 0 0 0]\n",
      " [0 0 0 ... 0 0 0]\n",
      " [0 0 0 ... 0 0 0]\n",
      " ...\n",
      " [0 0 0 ... 0 0 0]\n",
      " [0 0 0 ... 0 0 0]\n",
      " [0 0 0 ... 0 0 0]] [103  99 253 253]\n"
     ]
    }
   ],
   "source": [
    "print (face,rect)"
   ]
  },
  {
   "cell_type": "code",
   "execution_count": null,
   "metadata": {},
   "outputs": [],
   "source": [
    "import cv2\n",
    "import time\n",
    "\n",
    "cap = cv2.VideoCapture(0)  # 调用第一个摄像头\n",
    "cv2.namedWindow('v')\n",
    "# 人脸特征分类器\n",
    "#face_cascade = cv2.CascadeClassifier('E:/Program Files/JetBrains/Pylianxi/人脸识别/xml_renlianjiancewenjian/haarcascade_frontalface_default.xml')\n",
    "face_cascade = cv2.CascadeClassifier('D:/Anaconda5.2.0/Lib/site-packages/cv2/data/haarcascade_frontalface_default.xml')\n",
    "\n",
    "# 循环识别\n",
    "\n",
    "while True:\n",
    "    ret, frame = cap.read()\n",
    "\n",
    "    # 判断数据是否拿到\n",
    "    if not ret:\n",
    "        cv2.waitKey(30)\n",
    "    grey = cv2.cvtColor(frame, cv2.COLOR_BGR2GRAY)\n",
    "    faces = face_cascade.detectMultiScale(grey, 1.3, 5)\n",
    "\n",
    "    # 人脸处理  ，画矩形图像\n",
    "    for (x, y, w, h) in faces:\n",
    "        cv2.rectangle(frame, (x, y), (x + w, y + h), (255, 0, 0), 2)\n",
    "\n",
    "    # 显示图像  以及窗口关闭\n",
    "    cv2.imshow('v', frame)\n",
    "    time.sleep(3)\n",
    "    keyvalue = cv2.waitKey(20)\n",
    "    if keyvalue & 0xff == ord('q'):\n",
    "        break\n",
    "\n",
    "    # 销毁窗口\n",
    "#cv2.destroyAllWindows()\n",
    "\n"
   ]
  },
  {
   "cell_type": "code",
   "execution_count": null,
   "metadata": {},
   "outputs": [],
   "source": []
  }
 ],
 "metadata": {
  "kernelspec": {
   "display_name": "Python 3",
   "language": "python",
   "name": "python3"
  },
  "language_info": {
   "codemirror_mode": {
    "name": "ipython",
    "version": 3
   },
   "file_extension": ".py",
   "mimetype": "text/x-python",
   "name": "python",
   "nbconvert_exporter": "python",
   "pygments_lexer": "ipython3",
   "version": "3.6.5"
  }
 },
 "nbformat": 4,
 "nbformat_minor": 2
}
