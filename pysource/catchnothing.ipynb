{
 "cells": [
  {
   "cell_type": "markdown",
   "metadata": {},
   "source": [
    "## 数据集爬取"
   ]
  },
  {
   "cell_type": "code",
   "execution_count": 4,
   "metadata": {},
   "outputs": [
    {
     "ename": "ModuleNotFoundError",
     "evalue": "No module named 'cPickle'",
     "output_type": "error",
     "traceback": [
      "\u001b[1;31m---------------------------------------------------------------------------\u001b[0m",
      "\u001b[1;31mModuleNotFoundError\u001b[0m                       Traceback (most recent call last)",
      "\u001b[1;32m<ipython-input-4-0cdb8c4f56f7>\u001b[0m in \u001b[0;36m<module>\u001b[1;34m()\u001b[0m\n\u001b[0;32m      3\u001b[0m \u001b[1;32mimport\u001b[0m \u001b[0margparse\u001b[0m\u001b[1;33m\u001b[0m\u001b[0m\n\u001b[0;32m      4\u001b[0m \u001b[1;32mimport\u001b[0m \u001b[0mmultiprocessing\u001b[0m\u001b[1;33m\u001b[0m\u001b[0m\n\u001b[1;32m----> 5\u001b[1;33m \u001b[1;32mimport\u001b[0m \u001b[0mcPickle\u001b[0m \u001b[1;32mas\u001b[0m \u001b[0mpkl\u001b[0m\u001b[1;33m\u001b[0m\u001b[0m\n\u001b[0m\u001b[0;32m      6\u001b[0m \u001b[1;32mfrom\u001b[0m \u001b[0mPIL\u001b[0m \u001b[1;32mimport\u001b[0m \u001b[0mImage\u001b[0m\u001b[1;33m\u001b[0m\u001b[0m\n\u001b[0;32m      7\u001b[0m \u001b[1;33m\u001b[0m\u001b[0m\n",
      "\u001b[1;31mModuleNotFoundError\u001b[0m: No module named 'cPickle'"
     ]
    }
   ],
   "source": [
    "import os\n",
    "import urllib\n",
    "import argparse\n",
    "import multiprocessing\n",
    "import cPickle as pkl\n",
    "from PIL import Image\n",
    "\n",
    "image_folder = './images/'\n",
    "\n",
    "def fetch_image(url):\n",
    "    filename = os.path.split(url)[-1]\n",
    "    full_path = os.path.join(image_folder, filename)\n",
    "    if os.path.exists(full_path):\n",
    "        return\n",
    "\n",
    "    print ('\\tDownloading', filename)\n",
    "    file, mime = urllib.urlretrieve(url)\n",
    "    photo = Image.open(file)\n",
    "    photo.save(full_path)\n",
    "\n",
    "if __name__ == '__main__':\n",
    "    parser = argparse.ArgumentParser(\n",
    "        description='Download the images in the dataset into a specified folder.')\n",
    "    parser.add_argument(\n",
    "        '-w', '--workers', type=int, default=-1,\n",
    "        help=\"num workers used to download images. -x uses (all - x) cores [-1 default].\"\n",
    "    )\n",
    "    parser.add_argument('-dir', type=str, default='./images/',\n",
    "        help='the path to save the images, default=\"./images/\"'\n",
    "    )\n",
    "    args = parser.parse_args()\n",
    "    image_folder = args.dir\n",
    "    num_workers = args.workers\n",
    "\n",
    "    if num_workers < 0:\n",
    "        num_workers = multiprocessing.cpu_count() + num_workers\n",
    "\n",
    "    if not os.path.exists(image_folder):\n",
    "        print( 'Creating folder to download images...[{}]'.format(image_folder))\n",
    "        os.makedirs(image_folder)\n",
    "\n",
    "    db = pkl.load(open(\"dataset.pkl\", \"rb\"))\n",
    "    URLs = [db[i]['url'] for i in xrange(0, len(db), 14)]\n",
    "\n",
    "    print('Downloading {} images with {} workers...'.format(len(URLs), num_workers))\n",
    "    pool = multiprocessing.Pool(processes=num_workers)\n",
    "    pool.map(fetch_image, URLs)"
   ]
  },
  {
   "cell_type": "code",
   "execution_count": null,
   "metadata": {},
   "outputs": [],
   "source": []
  }
 ],
 "metadata": {
  "kernelspec": {
   "display_name": "Python 3",
   "language": "python",
   "name": "python3"
  },
  "language_info": {
   "codemirror_mode": {
    "name": "ipython",
    "version": 3
   },
   "file_extension": ".py",
   "mimetype": "text/x-python",
   "name": "python",
   "nbconvert_exporter": "python",
   "pygments_lexer": "ipython3",
   "version": "3.6.5"
  }
 },
 "nbformat": 4,
 "nbformat_minor": 2
}
